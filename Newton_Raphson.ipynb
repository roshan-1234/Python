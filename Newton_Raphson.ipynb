{
  "nbformat": 4,
  "nbformat_minor": 0,
  "metadata": {
    "colab": {
      "provenance": []
    },
    "kernelspec": {
      "name": "python3",
      "display_name": "Python 3"
    },
    "language_info": {
      "name": "python"
    }
  },
  "cells": [
    {
      "cell_type": "code",
      "execution_count": null,
      "metadata": {
        "id": "wY-bR0fmoZ8m"
      },
      "outputs": [],
      "source": [
        "import numpy as np"
      ]
    },
    {
      "cell_type": "code",
      "source": [
        "def f(x):\n",
        "    return x**2 -2\n",
        "def g(x):\n",
        "    return 2*x\n",
        "\n"
      ],
      "metadata": {
        "id": "Qm9jkCWXog3m"
      },
      "execution_count": null,
      "outputs": []
    },
    {
      "cell_type": "code",
      "source": [
        "x=1\n",
        "while abs(f(x)/g(x))>0.0001:\n",
        "    x=x-f(x)/g(x)\n",
        "    print(x)\n",
        "print(x)"
      ],
      "metadata": {
        "colab": {
          "base_uri": "https://localhost:8080/"
        },
        "id": "RGjd54ZvosuF",
        "outputId": "75038937-8765-4243-a948-f9edce2565eb"
      },
      "execution_count": null,
      "outputs": [
        {
          "output_type": "stream",
          "name": "stdout",
          "text": [
            "1.5\n",
            "1.4166666666666667\n",
            "1.4142156862745099\n",
            "1.4142156862745099\n"
          ]
        }
      ]
    },
    {
      "cell_type": "code",
      "source": [
        "x=1000\n",
        "while abs(f(x)/g(x))>0.0001:\n",
        "    x=x-f(x)/g(x)\n",
        "    print(x)\n",
        "print(x)"
      ],
      "metadata": {
        "colab": {
          "base_uri": "https://localhost:8080/"
        },
        "id": "fc0Rg4ViqMUk",
        "outputId": "97b7d1b0-c630-4977-94e3-bdbeb3376231"
      },
      "execution_count": null,
      "outputs": [
        {
          "output_type": "stream",
          "name": "stdout",
          "text": [
            "500.001\n",
            "250.00249999599998\n",
            "125.00524995800045\n",
            "62.51062464301702\n",
            "31.27130960206219\n",
            "15.667632994868365\n",
            "7.897642347856357\n",
            "4.075441240519499\n",
            "2.283092824392554\n",
            "1.5795487524060154\n",
            "1.4228665795786684\n",
            "1.4142398735915307\n",
            "1.4142398735915307\n"
          ]
        }
      ]
    },
    {
      "cell_type": "code",
      "source": [
        "i=1\n",
        "x=1000\n",
        "while i<20:\n",
        "  x=x-f(x)/g(x)\n",
        "  print(x)\n",
        "  i=i+1"
      ],
      "metadata": {
        "colab": {
          "base_uri": "https://localhost:8080/"
        },
        "id": "ryy6EFvesN8L",
        "outputId": "aa62dd9e-1471-4a92-e144-2bfb5f1f60d4"
      },
      "execution_count": null,
      "outputs": [
        {
          "output_type": "stream",
          "name": "stdout",
          "text": [
            "500.001\n",
            "250.00249999599998\n",
            "125.00524995800045\n",
            "62.51062464301702\n",
            "31.27130960206219\n",
            "15.667632994868365\n",
            "7.897642347856357\n",
            "4.075441240519499\n",
            "2.283092824392554\n",
            "1.5795487524060154\n",
            "1.4228665795786684\n",
            "1.4142398735915307\n",
            "1.4142135626178485\n",
            "1.4142135623730951\n",
            "1.414213562373095\n",
            "1.4142135623730951\n",
            "1.414213562373095\n",
            "1.4142135623730951\n",
            "1.414213562373095\n"
          ]
        }
      ]
    },
    {
      "cell_type": "code",
      "source": [],
      "metadata": {
        "id": "Q6q_yy_6s0n3"
      },
      "execution_count": null,
      "outputs": []
    }
  ]
}