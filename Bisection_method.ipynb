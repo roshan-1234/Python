{
  "nbformat": 4,
  "nbformat_minor": 0,
  "metadata": {
    "colab": {
      "provenance": []
    },
    "kernelspec": {
      "name": "python3",
      "display_name": "Python 3"
    },
    "language_info": {
      "name": "python"
    }
  },
  "cells": [
    {
      "cell_type": "code",
      "execution_count": null,
      "metadata": {
        "id": "vxmNRzfJMwJn"
      },
      "outputs": [],
      "source": [
        "import numpy as np"
      ]
    },
    {
      "cell_type": "code",
      "source": [
        "def f(x):\n",
        "  return x**2-2\n",
        "a=int(input(\"Enter the initial value\"))\n",
        "b=int(input(\"Enter the final value\"))\n",
        "print(f(a),f(b))\n",
        "if f(a)*f(b)<0:\n",
        "  while b-a>=0.0001:\n",
        "      c=(a+b)/2\n",
        "      if f(a)*f(c)<=0:\n",
        "        b=c\n",
        "      else:\n",
        "        a=c\n",
        "      print(c)\n",
        "else:\n",
        "  print(\"No solution\")\n"
      ],
      "metadata": {
        "colab": {
          "base_uri": "https://localhost:8080/"
        },
        "id": "VhvLhH9YM2R7",
        "outputId": "27dc7a8f-8c2a-44e3-85ab-7d00893767eb"
      },
      "execution_count": null,
      "outputs": [
        {
          "output_type": "stream",
          "name": "stdout",
          "text": [
            "Enter the initial value1\n",
            "Enter the final value2\n",
            "-1 2\n",
            "1.5\n",
            "1.25\n",
            "1.375\n",
            "1.4375\n",
            "1.40625\n",
            "1.421875\n",
            "1.4140625\n",
            "1.41796875\n",
            "1.416015625\n",
            "1.4150390625\n",
            "1.41455078125\n",
            "1.414306640625\n",
            "1.4141845703125\n",
            "1.41424560546875\n"
          ]
        }
      ]
    },
    {
      "cell_type": "code",
      "source": [
        "def f(x):\n",
        "  return x**3+4*x**2-10\n",
        "a=int(input(\"Enter the initial value\"))\n",
        "b=int(input(\"Enter the final value\"))\n",
        "print(f(a),f(b))\n",
        "if f(a)*f(b)<0:\n",
        "  while b-a>=0.005:\n",
        "      c=(a+b)/2\n",
        "      if f(a)*f(c)<=0:\n",
        "        b=c\n",
        "      else:\n",
        "        a=c\n",
        "      print(c)\n",
        "else:\n",
        "  print(\"No solution\")"
      ],
      "metadata": {
        "colab": {
          "base_uri": "https://localhost:8080/"
        },
        "id": "3M4KOnkYXBXL",
        "outputId": "af7e6fc9-9671-4afb-bdfa-d0d4653ee117"
      },
      "execution_count": null,
      "outputs": [
        {
          "output_type": "stream",
          "name": "stdout",
          "text": [
            "Enter the initial value1\n",
            "Enter the final value2\n",
            "-5 14\n",
            "1.5\n",
            "1.25\n",
            "1.375\n",
            "1.3125\n",
            "1.34375\n",
            "1.359375\n",
            "1.3671875\n",
            "1.36328125\n"
          ]
        }
      ]
    },
    {
      "cell_type": "code",
      "source": [],
      "metadata": {
        "id": "UGIbtRdUlhUf"
      },
      "execution_count": null,
      "outputs": []
    }
  ]
}